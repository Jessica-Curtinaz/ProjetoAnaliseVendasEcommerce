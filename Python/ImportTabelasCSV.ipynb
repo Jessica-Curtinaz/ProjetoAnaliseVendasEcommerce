{
 "cells": [
  {
   "cell_type": "code",
   "execution_count": 1,
   "id": "15023fc8",
   "metadata": {},
   "outputs": [],
   "source": [
    "import pyodbc\n",
    "import pandas as pd\n",
    "from sqlalchemy import create_engine\n",
    "import urllib.parse"
   ]
  },
  {
   "cell_type": "code",
   "execution_count": 2,
   "id": "b671c655",
   "metadata": {},
   "outputs": [],
   "source": [
    "# Configurações de conexão com o SQL Server\n",
    "dados_conexao_pyodbc = (\n",
    "    \"Driver={ODBC Driver 17 for SQL Server};\"\n",
    "    \"Server=localhost;\"\n",
    "    \"Database=AnaliseVendasEcommerce;\"\n",
    "    \"Trusted_Connection=yes;\"\n",
    ")\n",
    "\n",
    "# Criar o engine do SQLAlchemy\n",
    "parametros = urllib.parse.quote_plus(dados_conexao_pyodbc) # Codifica a string de conexão para URL\n",
    "motor = create_engine(f\"mssql+pyodbc:///?odbc_connect={parametros}\")"
   ]
  },
  {
   "cell_type": "code",
   "execution_count": 3,
   "id": "e9fce4b5",
   "metadata": {},
   "outputs": [],
   "source": [
    "# Função para importar csv para sql server\n",
    "def importar_csv_para_sql(caminho_csv, nome_tabela_sql, sql_engine):\n",
    "    conexao = None\n",
    "\n",
    "    try:\n",
    "        # ler csv com pandas\n",
    "        tabela_df = pd.read_csv(caminho_csv, sep=';', encoding='latin1')\n",
    "        print(\"{} linhas carregadas para o dataframe!\".format(len(tabela_df)))\n",
    "\n",
    "        # conectar ao sql server usando o engine do sqlalchemy\n",
    "        conexao = sql_engine.connect()\n",
    "        print(\"Conexão estabelecida com sucesso!\")\n",
    "\n",
    "        # inserir os dados da tabela no sql server\n",
    "        tabela_df.to_sql(nome_tabela_sql, conexao, if_exists='append', index=False)\n",
    "        print(\"Dados Exportados com sucesso!\")\n",
    "\n",
    "    except FileNotFoundError:\n",
    "        print(\"Erro: O arquivo CSV não foi encontrado!\")\n",
    "\n",
    "    except pyodbc.Error:\n",
    "        print(\"Erro de conexão: {}\".format(pyodbc.Error.args))\n",
    "        print(\"pyodbc.Error\")\n",
    "    \n",
    "    except Exception as e:\n",
    "        print(\"Ocorreu um erro inesperado!\")\n",
    "        print(e)\n",
    "\n",
    "    finally:\n",
    "        if conexao:\n",
    "            conexao.close()\n",
    "            print(\"Conexão com SQL Server fechada!\")\n"
   ]
  },
  {
   "cell_type": "code",
   "execution_count": 5,
   "id": "87fe82ce",
   "metadata": {},
   "outputs": [
    {
     "name": "stdout",
     "output_type": "stream",
     "text": [
      "11 linhas carregadas para o dataframe!\n",
      "Conexão estabelecida com sucesso!\n",
      "Dados Exportados com sucesso!\n",
      "Conexão com SQL Server fechada!\n"
     ]
    }
   ],
   "source": [
    "caminho_csv_fornecedor = r'D:\\Estudos\\Análise de Desempenho de Vendas e Marketing para E-commerce\\Tabelas csv\\DimFornecedor.csv'\n",
    "importar_csv_para_sql(caminho_csv_fornecedor, 'DimFornecedor', motor)"
   ]
  },
  {
   "cell_type": "code",
   "execution_count": 7,
   "id": "f387ca9f",
   "metadata": {},
   "outputs": [
    {
     "name": "stdout",
     "output_type": "stream",
     "text": [
      "150 linhas carregadas para o dataframe!\n",
      "Conexão estabelecida com sucesso!\n",
      "Dados Exportados com sucesso!\n",
      "Conexão com SQL Server fechada!\n"
     ]
    }
   ],
   "source": [
    "caminho_csv_produto = r'D:\\Estudos\\Análise de Desempenho de Vendas e Marketing para E-commerce\\Tabelas csv\\DimProduto.csv'\n",
    "importar_csv_para_sql(caminho_csv_produto, 'DimProduto', motor)"
   ]
  },
  {
   "cell_type": "code",
   "execution_count": 10,
   "id": "6713f5c9",
   "metadata": {},
   "outputs": [
    {
     "name": "stdout",
     "output_type": "stream",
     "text": [
      "38 linhas carregadas para o dataframe!\n",
      "Conexão estabelecida com sucesso!\n",
      "Dados Exportados com sucesso!\n",
      "Conexão com SQL Server fechada!\n"
     ]
    }
   ],
   "source": [
    "caminho_csv_funcionario = r'D:\\Estudos\\Análise de Desempenho de Vendas e Marketing para E-commerce\\Tabelas csv\\DimFuncionario.csv'\n",
    "importar_csv_para_sql(caminho_csv_funcionario, 'DimFuncionario', motor)"
   ]
  },
  {
   "cell_type": "code",
   "execution_count": 13,
   "id": "0610f7d0",
   "metadata": {},
   "outputs": [
    {
     "name": "stdout",
     "output_type": "stream",
     "text": [
      "310 linhas carregadas para o dataframe!\n",
      "Conexão estabelecida com sucesso!\n",
      "Dados Exportados com sucesso!\n",
      "Conexão com SQL Server fechada!\n"
     ]
    }
   ],
   "source": [
    "caminho_csv_cliente = r'D:\\Estudos\\Análise de Desempenho de Vendas e Marketing para E-commerce\\Tabelas csv\\DimCliente.csv'\n",
    "importar_csv_para_sql(caminho_csv_cliente, 'DimCliente', motor)"
   ]
  },
  {
   "cell_type": "code",
   "execution_count": 6,
   "id": "a372fabc",
   "metadata": {},
   "outputs": [
    {
     "name": "stdout",
     "output_type": "stream",
     "text": [
      "1470 linhas carregadas para o dataframe!\n",
      "Conexão estabelecida com sucesso!\n",
      "Dados Exportados com sucesso!\n",
      "Conexão com SQL Server fechada!\n"
     ]
    }
   ],
   "source": [
    "caminho_csv_vendas = r'D:\\Estudos\\Análise de Desempenho de Vendas e Marketing para E-commerce\\Tabelas csv\\FactVendas.csv'\n",
    "importar_csv_para_sql(caminho_csv_vendas, 'FactVendas', motor)"
   ]
  }
 ],
 "metadata": {
  "kernelspec": {
   "display_name": "Python 3",
   "language": "python",
   "name": "python3"
  },
  "language_info": {
   "codemirror_mode": {
    "name": "ipython",
    "version": 3
   },
   "file_extension": ".py",
   "mimetype": "text/x-python",
   "name": "python",
   "nbconvert_exporter": "python",
   "pygments_lexer": "ipython3",
   "version": "3.13.3"
  }
 },
 "nbformat": 4,
 "nbformat_minor": 5
}
